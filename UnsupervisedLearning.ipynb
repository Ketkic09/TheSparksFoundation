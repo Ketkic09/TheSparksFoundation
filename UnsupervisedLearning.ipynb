{
  "nbformat": 4,
  "nbformat_minor": 0,
  "metadata": {
    "colab": {
      "name": "UnsupervisedLearning.ipynb",
      "provenance": []
    },
    "kernelspec": {
      "name": "python3",
      "display_name": "Python 3"
    },
    "language_info": {
      "name": "python"
    }
  },
  "cells": [
    {
      "cell_type": "markdown",
      "metadata": {
        "id": "J91JixMxK_MB"
      },
      "source": [
        "\n",
        "**The Sparks Foundation** \n",
        "\n",
        "Data science and Business Analytics Intern"
      ]
    },
    {
      "cell_type": "markdown",
      "metadata": {
        "id": "Jv6CvC_yLN5J"
      },
      "source": [
        "**Name:** Ketki Chavan\n",
        "\n",
        "**Task2:** Prediction using unsupervised ML\n",
        "\n",
        "**Description:** Predicting the species of  a flower by plotting clusters using Kmeans algorithm."
      ]
    },
    {
      "cell_type": "markdown",
      "metadata": {
        "id": "wSF_OQIlaFJE"
      },
      "source": [
        "**Importing required modules**"
      ]
    },
    {
      "cell_type": "code",
      "metadata": {
        "id": "p2uwPtD3w4YE"
      },
      "source": [
        "from sklearn.datasets import load_iris\n",
        "import pandas as pd\n",
        "import numpy as np \n",
        "import matplotlib.pyplot as plt\n",
        "from sklearn.cluster import KMeans\n",
        "\n"
      ],
      "execution_count": 2,
      "outputs": []
    },
    {
      "cell_type": "markdown",
      "metadata": {
        "id": "_CS5be4ecUST"
      },
      "source": [
        "**Improting dataset**"
      ]
    },
    {
      "cell_type": "code",
      "metadata": {
        "colab": {
          "base_uri": "https://localhost:8080/",
          "height": 204
        },
        "id": "AbkUD0gaxeUr",
        "outputId": "eb89de97-73bb-4ef5-d4b4-ca6759860391"
      },
      "source": [
        "df = pd.read_csv('/content/sample_data/Iris.csv')\n",
        "df.head()\n"
      ],
      "execution_count": 3,
      "outputs": [
        {
          "output_type": "execute_result",
          "data": {
            "text/html": [
              "<div>\n",
              "<style scoped>\n",
              "    .dataframe tbody tr th:only-of-type {\n",
              "        vertical-align: middle;\n",
              "    }\n",
              "\n",
              "    .dataframe tbody tr th {\n",
              "        vertical-align: top;\n",
              "    }\n",
              "\n",
              "    .dataframe thead th {\n",
              "        text-align: right;\n",
              "    }\n",
              "</style>\n",
              "<table border=\"1\" class=\"dataframe\">\n",
              "  <thead>\n",
              "    <tr style=\"text-align: right;\">\n",
              "      <th></th>\n",
              "      <th>Id</th>\n",
              "      <th>SepalLengthCm</th>\n",
              "      <th>SepalWidthCm</th>\n",
              "      <th>PetalLengthCm</th>\n",
              "      <th>PetalWidthCm</th>\n",
              "      <th>Species</th>\n",
              "    </tr>\n",
              "  </thead>\n",
              "  <tbody>\n",
              "    <tr>\n",
              "      <th>0</th>\n",
              "      <td>1</td>\n",
              "      <td>5.1</td>\n",
              "      <td>3.5</td>\n",
              "      <td>1.4</td>\n",
              "      <td>0.2</td>\n",
              "      <td>Iris-setosa</td>\n",
              "    </tr>\n",
              "    <tr>\n",
              "      <th>1</th>\n",
              "      <td>2</td>\n",
              "      <td>4.9</td>\n",
              "      <td>3.0</td>\n",
              "      <td>1.4</td>\n",
              "      <td>0.2</td>\n",
              "      <td>Iris-setosa</td>\n",
              "    </tr>\n",
              "    <tr>\n",
              "      <th>2</th>\n",
              "      <td>3</td>\n",
              "      <td>4.7</td>\n",
              "      <td>3.2</td>\n",
              "      <td>1.3</td>\n",
              "      <td>0.2</td>\n",
              "      <td>Iris-setosa</td>\n",
              "    </tr>\n",
              "    <tr>\n",
              "      <th>3</th>\n",
              "      <td>4</td>\n",
              "      <td>4.6</td>\n",
              "      <td>3.1</td>\n",
              "      <td>1.5</td>\n",
              "      <td>0.2</td>\n",
              "      <td>Iris-setosa</td>\n",
              "    </tr>\n",
              "    <tr>\n",
              "      <th>4</th>\n",
              "      <td>5</td>\n",
              "      <td>5.0</td>\n",
              "      <td>3.6</td>\n",
              "      <td>1.4</td>\n",
              "      <td>0.2</td>\n",
              "      <td>Iris-setosa</td>\n",
              "    </tr>\n",
              "  </tbody>\n",
              "</table>\n",
              "</div>"
            ],
            "text/plain": [
              "   Id  SepalLengthCm  SepalWidthCm  PetalLengthCm  PetalWidthCm      Species\n",
              "0   1            5.1           3.5            1.4           0.2  Iris-setosa\n",
              "1   2            4.9           3.0            1.4           0.2  Iris-setosa\n",
              "2   3            4.7           3.2            1.3           0.2  Iris-setosa\n",
              "3   4            4.6           3.1            1.5           0.2  Iris-setosa\n",
              "4   5            5.0           3.6            1.4           0.2  Iris-setosa"
            ]
          },
          "metadata": {},
          "execution_count": 3
        }
      ]
    },
    {
      "cell_type": "markdown",
      "metadata": {
        "id": "DKkW_eui_P8c"
      },
      "source": [
        "**Information about data**"
      ]
    },
    {
      "cell_type": "code",
      "metadata": {
        "colab": {
          "base_uri": "https://localhost:8080/"
        },
        "id": "bZ_LMbSuxtBI",
        "outputId": "2a70f1e1-9dc3-450d-8e96-8bd697f8fcea"
      },
      "source": [
        "df.info()"
      ],
      "execution_count": 4,
      "outputs": [
        {
          "output_type": "stream",
          "text": [
            "<class 'pandas.core.frame.DataFrame'>\n",
            "RangeIndex: 150 entries, 0 to 149\n",
            "Data columns (total 6 columns):\n",
            " #   Column         Non-Null Count  Dtype  \n",
            "---  ------         --------------  -----  \n",
            " 0   Id             150 non-null    int64  \n",
            " 1   SepalLengthCm  150 non-null    float64\n",
            " 2   SepalWidthCm   150 non-null    float64\n",
            " 3   PetalLengthCm  150 non-null    float64\n",
            " 4   PetalWidthCm   150 non-null    float64\n",
            " 5   Species        150 non-null    object \n",
            "dtypes: float64(4), int64(1), object(1)\n",
            "memory usage: 7.2+ KB\n"
          ],
          "name": "stdout"
        }
      ]
    },
    {
      "cell_type": "markdown",
      "metadata": {
        "id": "_R7SZa_x_WU7"
      },
      "source": [
        "**Splitting Data into features and target**"
      ]
    },
    {
      "cell_type": "code",
      "metadata": {
        "id": "rzQCHfls10eJ"
      },
      "source": [
        "X=df.iloc[:,1:5]\n",
        "Y=df.iloc[:,5:6]\n"
      ],
      "execution_count": 5,
      "outputs": []
    },
    {
      "cell_type": "markdown",
      "metadata": {
        "id": "8yBFX7xe_eKj"
      },
      "source": [
        "**Implementing Elbow Method to know ideal no. of clusters**"
      ]
    },
    {
      "cell_type": "code",
      "metadata": {
        "colab": {
          "base_uri": "https://localhost:8080/",
          "height": 391
        },
        "id": "5jWO8d9y3xJQ",
        "outputId": "0261627d-5b3c-4268-d3ac-e61f25d2b24f"
      },
      "source": [
        "wcss=[]\n",
        "for i in range(1,10):\n",
        "  kmeans=KMeans(n_clusters=i)\n",
        "  kmeans.fit(X)\n",
        "  wcss.append(kmeans.inertia_)\n",
        "\n",
        "plt.figure(figsize=(20,8))\n",
        "plt.plot(range(1,10),wcss,\"-o\")\n",
        "plt.xlabel('Number of Clusters')\n",
        "plt.ylabel('WCSS value')\n",
        "plt.title('The Elbow Method')\n",
        "plt.grid=True\n",
        "plt.xticks(range(1,15))\n",
        "plt.tight_layout()\n",
        "\n",
        "plt.show()\n"
      ],
      "execution_count": 6,
      "outputs": [
        {
          "output_type": "display_data",
          "data": {
            "image/png": "[encoded data removed]",
            "text/plain": [
              "<Figure size 1440x576 with 1 Axes>"
            ]
          },
          "metadata": {
            "needs_background": "light"
          }
        }
      ]
    },
    {
      "cell_type": "markdown",
      "metadata": {
        "id": "oKNT9pXNBTOL"
      },
      "source": [
        "**Comparing clusters of different numbers** "
      ]
    },
    {
      "cell_type": "code",
      "metadata": {
        "id": "AiJ2PbPbf7p2",
        "colab": {
          "base_uri": "https://localhost:8080/",
          "height": 207
        },
        "outputId": "3baa0338-a38a-4a67-c291-67d3a4da793f"
      },
      "source": [
        "plt.figure(figsize=(24,4))\n",
        "\n",
        "plt.subplot(1,5,1)\n",
        "plt.title(\"K=1\")\n",
        "plt.xlabel(\"PetalLengthCm\")\n",
        "plt.ylabel(\"PetalWidthCm\")\n",
        "plt.scatter(X.PetalLengthCm,X.PetalWidthCm)\n",
        "\n",
        "plt.subplot(1,5,2)\n",
        "plt.title(\"K=2\")\n",
        "plt.xlabel(\"PetalLengthCm\")\n",
        "plt.ylabel(\"PetalWidthCm\")\n",
        "kmeans = KMeans(n_clusters = 2)\n",
        "X['target'] = kmeans.fit_predict(X)\n",
        "plt.scatter(X.PetalLengthCm[X.target == 0],X.PetalWidthCm[X.target == 0])\n",
        "plt.scatter(X.PetalLengthCm[X.target == 1],X.PetalWidthCm[X.target == 1])\n",
        "\n",
        "X.drop([\"target\"],axis=1,inplace=True)\n",
        "\n",
        "plt.subplot(1,5,3)\n",
        "plt.title(\"K=3\")\n",
        "plt.xlabel(\"PetalLengthCm\")\n",
        "plt.ylabel(\"PetalWidthCm\")\n",
        "kmeans = KMeans(n_clusters = 3)\n",
        "X['target'] = kmeans.fit_predict(X)\n",
        "plt.scatter(X.PetalLengthCm[X.target == 0],X.PetalWidthCm[X.target == 0])\n",
        "plt.scatter(X.PetalLengthCm[X.target == 1],X.PetalWidthCm[X.target == 1])\n",
        "plt.scatter(X.PetalLengthCm[X.target == 2],X.PetalWidthCm[X.target == 2])\n",
        "\n",
        "X.drop([\"target\"],axis=1,inplace=True)\n",
        "\n",
        "plt.subplot(1,5,4)\n",
        "plt.title(\"K=4\")\n",
        "plt.xlabel(\"PetalLengthCm\")\n",
        "plt.ylabel(\"PetalWidthCm\")\n",
        "kmeans = KMeans(n_clusters = 4)\n",
        "X['target'] = kmeans.fit_predict(X)\n",
        "plt.scatter(X.PetalLengthCm[X.target == 0],X.PetalWidthCm[X.target == 0])\n",
        "plt.scatter(X.PetalLengthCm[X.target == 1],X.PetalWidthCm[X.target == 1])\n",
        "plt.scatter(X.PetalLengthCm[X.target == 2],X.PetalWidthCm[X.target == 2])\n",
        "plt.scatter(X.PetalLengthCm[X.target == 3],X.PetalWidthCm[X.target == 3])\n",
        "\n",
        "plt.subplot(1,5,5)\n",
        "plt.title(\"Original Labels\",fontsize=16)\n",
        "plt.xlabel(\"PetalLengthCm\")\n",
        "plt.scatter(df.PetalLengthCm[df.Species == \"Iris-setosa\"],df.PetalWidthCm[df.Species == \"Iris-setosa\"])\n",
        "plt.scatter(df.PetalLengthCm[df.Species == \"Iris-versicolor\"],df.PetalWidthCm[df.Species == \"Iris-versicolor\"])\n",
        "plt.scatter(df.PetalLengthCm[df.Species == \"Iris-virginica\"],df.PetalWidthCm[df.Species == \"Iris-virginica\"])\n",
        "\n",
        "plt.show()\n"
      ],
      "execution_count": 7,
      "outputs": [
        {
          "output_type": "display_data",
          "data": {
            "image/png": "[encoded data removed]",
            "text/plain": [
              "<Figure size 1728x288 with 5 Axes>"
            ]
          },
          "metadata": {
            "needs_background": "light"
          }
        }
      ]
    },
    {
      "cell_type": "markdown",
      "metadata": {
        "id": "5WhPGuJnDE5z"
      },
      "source": [
        "We can see n_clusters=3 gives us the best results"
      ]
    },
    {
      "cell_type": "markdown",
      "metadata": {
        "id": "moSDniQTDNjk"
      },
      "source": [
        "**Fitting the data in Kmeans Model and performing prediction by keeping the hyperparameter n_clusters=3**"
      ]
    },
    {
      "cell_type": "code",
      "metadata": {
        "id": "OjUNrFV9NLhy",
        "colab": {
          "base_uri": "https://localhost:8080/"
        },
        "outputId": "a5733e92-143a-4d15-a13b-821ae7f139e7"
      },
      "source": [
        "X = df.iloc[:, [0, 1, 2, 3]].values\n",
        "predict = KMeans(n_clusters = 3, init = 'k-means++',\n",
        "                max_iter = 300, n_init = 10, random_state = 0)\n",
        "predict = kmeans.fit_predict(X)\n",
        "predict"
      ],
      "execution_count": 8,
      "outputs": [
        {
          "output_type": "execute_result",
          "data": {
            "text/plain": [
              "array([3, 3, 3, 3, 3, 3, 3, 3, 3, 3, 3, 3, 3, 3, 3, 3, 3, 3, 3, 3, 3, 3,\n",
              "       3, 3, 3, 3, 3, 3, 3, 3, 3, 3, 3, 3, 3, 3, 1, 1, 1, 1, 1, 1, 1, 1,\n",
              "       1, 1, 1, 1, 1, 1, 1, 1, 1, 1, 1, 1, 1, 1, 1, 1, 1, 1, 1, 1, 1, 1,\n",
              "       1, 1, 1, 1, 1, 1, 1, 0, 0, 0, 0, 0, 0, 0, 0, 0, 0, 0, 0, 0, 0, 0,\n",
              "       0, 0, 0, 0, 0, 0, 0, 0, 0, 0, 0, 0, 0, 0, 0, 0, 0, 0, 0, 0, 0, 0,\n",
              "       0, 2, 2, 2, 2, 2, 2, 2, 2, 2, 2, 2, 2, 2, 2, 2, 2, 2, 2, 2, 2, 2,\n",
              "       2, 2, 2, 2, 2, 2, 2, 2, 2, 2, 2, 2, 2, 2, 2, 2, 2, 2], dtype=int32)"
            ]
          },
          "metadata": {},
          "execution_count": 8
        }
      ]
    },
    {
      "cell_type": "markdown",
      "metadata": {
        "id": "lbHN8_89GB4B"
      },
      "source": [
        "**Visualizing the clusters**"
      ]
    },
    {
      "cell_type": "code",
      "metadata": {
        "colab": {
          "base_uri": "https://localhost:8080/",
          "height": 282
        },
        "id": "nMntjoqRPl1F",
        "outputId": "7a406f0b-2da3-4c80-84ef-102ee4053419"
      },
      "source": [
        "# Visualising the clusters - On the first two columns\n",
        "plt.scatter(X[predict == 0, 0], X[predict == 0, 1], \n",
        "            s = 100, c = 'red', label = 'Iris-setosa')\n",
        "plt.scatter(X[predict == 1, 0],X[predict == 1, 1], \n",
        "            s = 100, c = 'blue', label = 'Iris-versicolour')\n",
        "plt.scatter(X[predict == 2, 0], X[predict == 2, 1],\n",
        "            s = 100, c = 'green', label = 'Iris-virginica')\n",
        "\n",
        "# Plotting the centroids of the clusters\n",
        "plt.scatter(kmeans.cluster_centers_[:, 0], kmeans.cluster_centers_[:,1], \n",
        "            s = 100, c = 'yellow', label = 'Centroids')\n",
        "\n",
        "plt.legend()"
      ],
      "execution_count": 9,
      "outputs": [
        {
          "output_type": "execute_result",
          "data": {
            "text/plain": [
              "<matplotlib.legend.Legend at 0x7f1cee71fc10>"
            ]
          },
          "metadata": {},
          "execution_count": 9
        },
        {
          "output_type": "display_data",
          "data": {
            "image/png": "[encoded data removed]",
            "text/plain": [
              "<Figure size 432x288 with 1 Axes>"
            ]
          },
          "metadata": {
            "needs_background": "light"
          }
        }
      ]
    },
    {
      "cell_type": "markdown",
      "metadata": {
        "id": "lMKxbBm1HzgK"
      },
      "source": [
        "**Thank You!**"
      ]
    }
  ]
}